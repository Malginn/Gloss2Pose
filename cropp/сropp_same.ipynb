{
 "cells": [
  {
   "cell_type": "code",
   "execution_count": 27,
   "metadata": {},
   "outputs": [],
   "source": [
    "import cv2\n",
    "import numpy as np\n",
    "from pathlib import Path"
   ]
  },
  {
   "cell_type": "code",
   "execution_count": 152,
   "metadata": {},
   "outputs": [
    {
     "name": "stdout",
     "output_type": "stream",
     "text": [
      "147\n"
     ]
    }
   ],
   "source": [
    "p = Path('./cropps/')\n",
    "frames = []\n",
    "#читаем кадры\n",
    "imgs = [cv2.imread(str(f)) for f in p.glob('*.jpg')]\n",
    "\n",
    "height, width, layers = imgs[0].shape\n",
    "print(len(imgs))\n",
    "for img in imgs:\n",
    "    frames.append(img)"
   ]
  },
  {
   "cell_type": "code",
   "execution_count": 154,
   "metadata": {},
   "outputs": [],
   "source": [
    "gray_frames = [cv2.cvtColor(frame, cv2.COLOR_BGR2GRAY) for frame in frames]"
   ]
  },
  {
   "cell_type": "code",
   "execution_count": 155,
   "metadata": {},
   "outputs": [],
   "source": [
    "histograms = [cv2.calcHist([gray_frame], [0], None, [256], [0, 256]) for gray_frame in gray_frames]"
   ]
  },
  {
   "cell_type": "code",
   "execution_count": 156,
   "metadata": {},
   "outputs": [],
   "source": [
    "correlations = []\n",
    "for i in range(len(histograms) - 1):\n",
    "    correlations.append(np.corrcoef(histograms[i].flatten(), histograms[i+1].flatten())[0, 1])"
   ]
  },
  {
   "cell_type": "code",
   "execution_count": 163,
   "metadata": {},
   "outputs": [
    {
     "data": {
      "text/plain": [
       "0.9997010863672147"
      ]
     },
     "execution_count": 163,
     "metadata": {},
     "output_type": "execute_result"
    }
   ],
   "source": [
    "np.array(correlations).mean()"
   ]
  },
  {
   "cell_type": "code",
   "execution_count": 164,
   "metadata": {},
   "outputs": [],
   "source": [
    "threshold = np.array(correlations).mean()"
   ]
  },
  {
   "cell_type": "code",
   "execution_count": null,
   "metadata": {},
   "outputs": [],
   "source": [
    "if speed < threshold:\n",
    "            # Сохраните кадр\n",
    "            cv2.imwrite(f'./cropps/img{i}.jpg' , frame)\n",
    "            i += 1"
   ]
  },
  {
   "cell_type": "code",
   "execution_count": 169,
   "metadata": {},
   "outputs": [],
   "source": [
    "filtered_frames = []\n",
    "for i in range(len(frames) - 1):\n",
    "    if correlations[i] < threshold:\n",
    "        filtered_frames.append(frames[i])\n",
    "        cv2.imwrite(f'./cropps_final/img_{i}.jpg', frames[i])"
   ]
  }
 ],
 "metadata": {
  "kernelspec": {
   "display_name": "base",
   "language": "python",
   "name": "python3"
  },
  "language_info": {
   "codemirror_mode": {
    "name": "ipython",
    "version": 3
   },
   "file_extension": ".py",
   "mimetype": "text/x-python",
   "name": "python",
   "nbconvert_exporter": "python",
   "pygments_lexer": "ipython3",
   "version": "3.11.5"
  }
 },
 "nbformat": 4,
 "nbformat_minor": 2
}
