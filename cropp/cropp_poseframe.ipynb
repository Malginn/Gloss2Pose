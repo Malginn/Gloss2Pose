{
 "cells": [
  {
   "cell_type": "code",
   "execution_count": 1,
   "metadata": {},
   "outputs": [],
   "source": [
    "import cv2\n",
    "import mediapipe as mp\n",
    "\n",
    "import ctypes\n",
    "import os\n",
    "import sys\n",
    "import traceback\n",
    "import shutil"
   ]
  },
  {
   "cell_type": "code",
   "execution_count": 2,
   "metadata": {},
   "outputs": [
    {
     "name": "stdout",
     "output_type": "stream",
     "text": [
      "c:\\Users\\ivano\\OneDrive\\Документы\\GitHub\\Gloss2Pose\n"
     ]
    }
   ],
   "source": [
    "print(os.getcwd())"
   ]
  },
  {
   "cell_type": "code",
   "execution_count": 60,
   "metadata": {},
   "outputs": [],
   "source": [
    "mp_pose = mp.solutions.pose\n",
    "pose_model = mp_pose.Pose(\n",
    "    static_image_mode=True,\n",
    "    model_complexity=2,\n",
    "    enable_segmentation=True,\n",
    "    min_detection_confidence=0.5\n",
    ")"
   ]
  },
  {
   "cell_type": "code",
   "execution_count": 61,
   "metadata": {},
   "outputs": [],
   "source": [
    "video_path = r\"C:\\Users\\ivano\\Desktop\\SBER\\ezgif-3-e1fc06a5ab.mp4\"\n",
    "cap = cv2.VideoCapture(video_path)"
   ]
  },
  {
   "cell_type": "code",
   "execution_count": 62,
   "metadata": {},
   "outputs": [],
   "source": [
    "def calculate_speed(landmarks):\n",
    "    # Вычислите положение суставов\n",
    "    shoulder_left = landmarks.landmark[mp_pose.PoseLandmark.LEFT_SHOULDER]\n",
    "    shoulder_right = landmarks.landmark[mp_pose.PoseLandmark.RIGHT_SHOULDER]\n",
    "    hip_left = landmarks.landmark[mp_pose.PoseLandmark.LEFT_HIP]\n",
    "    hip_right = landmarks.landmark[mp_pose.PoseLandmark.RIGHT_HIP]\n",
    "\n",
    "    # Вычислите смещение суставов\n",
    "    dx_shoulders = shoulder_right.x - shoulder_left.x\n",
    "    dy_shoulders = shoulder_right.y - shoulder_left.y\n",
    "    dx_hips = hip_right.x - hip_left.x\n",
    "    dy_hips = hip_right.y - hip_left.y\n",
    "\n",
    "    # Вычислите скорость движения\n",
    "    speed = (dx_shoulders**2 + dy_shoulders**2 + dx_hips**2 + dy_hips**2)**0.5\n",
    "    return speed"
   ]
  },
  {
   "cell_type": "code",
   "execution_count": 63,
   "metadata": {},
   "outputs": [],
   "source": [
    "threshold = 0.43\n",
    "\n",
    "i = 0\n",
    "while cap.isOpened():\n",
    "    ret, frame = cap.read()\n",
    "    if not ret:\n",
    "        break\n",
    "\n",
    "    # Преобразуйте кадр в формат RGB\n",
    "    frame_rgb = cv2.cvtColor(frame, cv2.COLOR_BGR2RGB)\n",
    "\n",
    "    # Выполните обнаружение позы\n",
    "    results = pose_model.process(frame_rgb)\n",
    "\n",
    "    # Проверьте, есть ли в кадре человек\n",
    "    if results.pose_landmarks is not None:\n",
    "        # Вычислите скорость движения человека\n",
    "        speed = calculate_speed(results.pose_landmarks)\n",
    "\n",
    "        # Если скорость движения ниже определенного порога, то это пауза\n",
    "        if speed < threshold:\n",
    "            # Сохраните кадр\n",
    "            cv2.imwrite(f'./cropps/img{i}.jpg' , frame)\n",
    "            i += 1"
   ]
  },
  {
   "cell_type": "code",
   "execution_count": 64,
   "metadata": {},
   "outputs": [],
   "source": [
    "shutil.rmtree('./cropps')\n",
    "os.makedirs('./cropps')"
   ]
  },
  {
   "cell_type": "code",
   "execution_count": null,
   "metadata": {},
   "outputs": [],
   "source": []
  }
 ],
 "metadata": {
  "kernelspec": {
   "display_name": "base",
   "language": "python",
   "name": "python3"
  },
  "language_info": {
   "codemirror_mode": {
    "name": "ipython",
    "version": 3
   },
   "file_extension": ".py",
   "mimetype": "text/x-python",
   "name": "python",
   "nbconvert_exporter": "python",
   "pygments_lexer": "ipython3",
   "version": "3.11.5"
  }
 },
 "nbformat": 4,
 "nbformat_minor": 2
}
